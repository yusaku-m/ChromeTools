{
 "cells": [
  {
   "cell_type": "code",
   "execution_count": 1,
   "metadata": {},
   "outputs": [],
   "source": [
    "import os\n",
    "import pandas as pd\n",
    "import pickle\n",
    "\n",
    "class Browser:\n",
    "    def __init__(self, userdata_path):\n",
    "        \"\"\"userdata_pathはedge://version/の「Profile path」を使用すると保存しているパスワードが有効に\"\"\"\n",
    "        #初期設定\n",
    "        self.driver_path = \"./Edge/msedgedriver.exe\"\n",
    "        from msedge.selenium_tools import Edge, EdgeOptions\n",
    "\n",
    "        #バージョンの確認,Edgeが更新されていればドライバを更新\n",
    "        self.check_driver_version()\n",
    "        options = EdgeOptions()\n",
    "        options.use_chromium = True\n",
    "        #options.add_argument('--headless')  #非表示で起動（するとパスワード自動入力が使用できない。）\n",
    "        options.add_argument(f'--user-data-dir={userdata_path}')\n",
    "        options.add_argument('--profile-directory=Default')#ユーザーとして起動（パスワード自動入力のため）\n",
    "        options.add_argument(\"--remote-debugging-port=9222\") \n",
    "        options.add_argument('--lang=en')\n",
    "        #ダウンロード先を変更\n",
    "        options.add_experimental_option('prefs', {'download.default_directory': os.getcwd()})\n",
    "        options.add_experimental_option('excludeSwitches', ['enable-logging']) #エラー非表示\n",
    "        #ドライバの読み込み\n",
    "        driver = Edge(executable_path = self.driver_path, options=options)\n",
    "        #driver.maximize_window()\n",
    "        #タイムアウト設定\n",
    "        driver.set_page_load_timeout(120)\n",
    "        driver.implicitly_wait(10) #要素が見つかるまで待つ時間\n",
    "        self.driver = driver\n",
    "        \n",
    "    def check_driver_version(self):\n",
    "        \"\"\"ドライバの自動更新\"\"\"\n",
    "        #Edgeバージョンの確認\n",
    "        import winreg\n",
    "        path = r\"SOFTWARE\\Microsoft\\Edge\\BLBeacon\"\n",
    "        key = winreg.OpenKey(winreg.HKEY_CURRENT_USER, path)\n",
    "        data, regtype = winreg.QueryValueEx(key, 'version')\n",
    "        winreg.CloseKey(key) \n",
    "\n",
    "        #現状ステータスの読み込み\n",
    "        import pandas as pd\n",
    "        status = self.open_status()\n",
    "        print('Check Edge version...')\n",
    "\n",
    "        #ドライババージョンと比較\n",
    "        if 'Edge_Version' in status.index and data == status.at['Edge_Version', 'value']:\n",
    "            #更新不要\n",
    "            print(f'Your edge is latest verion ({data}).')\n",
    "            return\n",
    "        else:\n",
    "            #更新\n",
    "            print(f'Your edge is updeted. Driver update is needed to version {data}.')\n",
    "            self.update_driver(data)\n",
    "\n",
    "    def update_driver(self, terget_version):\n",
    "        \"\"\"ドライバの自動更新\"\"\"\n",
    "        #既存ドライバの削除\n",
    "        url = f\"https://msedgedriver.azureedge.net/{terget_version}/edgedriver_win64.zip\"\n",
    "        filename = self.driver_path\n",
    "        zipname = \"./Edge/edgedriver_win64.zip\"\n",
    "        if os.path.isfile(filename)==True:\n",
    "            os.remove(filename)\n",
    "\n",
    "        #最新ドライバの取得(zip)        \n",
    "        import requests\n",
    "        urlData = requests.get(url).content\n",
    "        with open(zipname ,mode='wb') as f: # wb でバイト型を書き込める\n",
    "             f.write(urlData)\n",
    "        #解凍\n",
    "        import zipfile\n",
    "        zfile = zipfile.ZipFile(zipname)\n",
    "        zfile.extractall(\"./Edge\")\n",
    "        zfile.close()\n",
    "\n",
    "        #不要ファイルの削除\n",
    "        os.remove(zipname)\n",
    "        import shutil\n",
    "        shutil.rmtree(\"./Edge/Driver_Notes/\")\n",
    "\n",
    "        #更新バージョンをステータスに反映\n",
    "        import pandas as pd\n",
    "        status = self.open_status()\n",
    "        \n",
    "        if 'Edge_Version' in status.index:\n",
    "            status.at['Edge_Version', 'value'] = terget_version\n",
    "        else:\n",
    "            df = pd.DataFrame(terget_version, index = ['Edge_Version'], columns=['value'])\n",
    "            status = pd.concat([status, df])\n",
    "            self.save_status(status)\n",
    "             \n",
    "    def open_status(self):\n",
    "        #現状ステータスの読み込み\n",
    "        if os.path.isfile('./Edge/status.binaryfile') == True:\n",
    "            with open(f'./Edge/status.binaryfile','rb') as f:\n",
    "                status = pickle.load(f)\n",
    "        else:\n",
    "            cols = ['value']\n",
    "            status = pd.DataFrame(index=[], columns=cols)\n",
    "            with open(f'./Edge/status.binaryfile','wb') as f:\n",
    "                pickle.dump(status, f) \n",
    "        return status\n",
    "\n",
    "    def save_status(self, status):\n",
    "        import pickle\n",
    "        with open(f'./Edge/status.binaryfile','wb') as f:\n",
    "            pickle.dump(status, f) \n",
    "\n",
    "    def close(self):\n",
    "        self.driver.quit()"
   ]
  },
  {
   "cell_type": "code",
   "execution_count": 2,
   "metadata": {},
   "outputs": [
    {
     "name": "stdout",
     "output_type": "stream",
     "text": [
      "Check Edge version...\n",
      "Your edge is latest verion (105.0.1343.53).\n"
     ]
    },
    {
     "name": "stderr",
     "output_type": "stream",
     "text": [
      "C:\\Users\\Yusaku\\AppData\\Local\\Temp\\ipykernel_11540\\1213152730.py:25: DeprecationWarning: Selenium Tools for Microsoft Edge is deprecated. Please upgrade to Selenium 4 which has built-in support for Microsoft Edge (Chromium): https://docs.microsoft.com/en-us/microsoft-edge/webdriver-chromium/#upgrading-from-selenium-3\n",
      "  driver = Edge(executable_path = self.driver_path, options=options)\n"
     ]
    }
   ],
   "source": [
    "user_data_path = \"C:/Users/Yusaku/AppData/Local/Microsoft/Edge/User Data/Default\"\n",
    "edge = Browser(user_data_path)\n",
    "edge.close()"
   ]
  },
  {
   "cell_type": "markdown",
   "metadata": {},
   "source": []
  }
 ],
 "metadata": {
  "kernelspec": {
   "display_name": "Python 3.10.4 64-bit",
   "language": "python",
   "name": "python3"
  },
  "language_info": {
   "codemirror_mode": {
    "name": "ipython",
    "version": 3
   },
   "file_extension": ".py",
   "mimetype": "text/x-python",
   "name": "python",
   "nbconvert_exporter": "python",
   "pygments_lexer": "ipython3",
   "version": "3.10.4"
  },
  "orig_nbformat": 4,
  "vscode": {
   "interpreter": {
    "hash": "26de051ba29f2982a8de78e945f0abaf191376122a1563185a90213a26c5da77"
   }
  }
 },
 "nbformat": 4,
 "nbformat_minor": 2
}
