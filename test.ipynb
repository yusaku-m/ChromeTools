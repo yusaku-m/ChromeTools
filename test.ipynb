{
 "cells": [
  {
   "cell_type": "code",
   "execution_count": 13,
   "metadata": {},
   "outputs": [],
   "source": [
    "from Chrome.Browser import Browser\n",
    "from selenium.webdriver.common.by import By\n",
    "\n",
    "class Cyboze(Browser):\n",
    "    def login(self):\n",
    "        self.driver.get('https://cybozu.da.kagawa-nct.ac.jp/scripts/cbag/ag.exe?')\n",
    "\n",
    "        import os\n",
    "        import pandas as pd\n",
    "\n",
    "        self.open_status()\n",
    "        name = self.status.at['氏名', 'value']\n",
    "        dep =  self.status.at['学科', 'value']\n",
    "        self.driver.find_element(By.LINK_TEXT, \"切り替える\").click()\n",
    "        from selenium.webdriver.support.select import Select\n",
    "        Select(self.driver.find_element(By.NAME, 'Group')).select_by_visible_text(dep)\n",
    "        self.driver.find_element(By.NAME, \"Submit\").click()\n",
    "        Select(self.driver.find_element(By.NAME, '_ID')).select_by_visible_text(name)\n",
    "        self.driver.find_element(By.NAME, \"Submit\").click()\n",
    "\n",
    "    def set_id(self, name , department):\n",
    "        self.open_status()\n",
    "        self.set_status('氏名', name)\n",
    "        self.set_status('学科', department)\n",
    "        self.save_status()\n",
    "\n",
    "    def begin_work(self):\n",
    "        self.driver.get('https://cybozu.da.kagawa-nct.ac.jp/scripts/cbag/ag.exe?page=AGIndex')\n",
    "\n",
    "        try:\n",
    "            self.driver.find_element_by_name(\"PIn\").click()\n",
    "        except:\n",
    "            pass\n",
    "        element = self.driver.find_element_by_css_selector(\".borderTable.vr_portletBd2\")\n",
    "        if '出社' in element.text:\n",
    "            begintime = element.text.split('出社\\n')[1].split(' ')[0]\n",
    "            print('本日は' + begintime + 'に出勤')\n",
    "        else:\n",
    "            print('出勤時間の取得に失敗')\n",
    "\n",
    "    def finish_work(self):\n",
    "        driver = self.driver\n",
    "        driver.get('https://cybozu.da.kagawa-nct.ac.jp/scripts/cbag/ag.exe?page=AGIndex')\n",
    "        try:\n",
    "            driver.find_element_by_name(\"POut\").click()\n",
    "        except:\n",
    "            pass\n",
    "        element = driver.find_element_by_css_selector(\".borderTable.vr_portletBd2\")\n",
    "        if '退社' in element.text:\n",
    "            finishtime = element.text.split('退社\\n')[1].split(' ')[0]\n",
    "            print('本日は' + finishtime + 'に退勤')\n",
    "        else:\n",
    "            finishtime = ''\n",
    "            print('退勤時間の取得に失敗')\n",
    "\n",
    "    def get_calender(self):\n",
    "        driver = self.driver\n",
    "        driver.get('https://cybozu.da.kagawa-nct.ac.jp/scripts/cbag/ag.exe?page=PersonalScheduleExport')\n",
    "        #現在の西暦を取得\n",
    "        import datetime\n",
    "        ThisYear = datetime.date.today().year\n",
    "        ThisMonth = datetime.date.today().month\n",
    "        #今月から1年後までを選択\n",
    "        from selenium.webdriver.support.select import Select\n",
    "        #古いカレンダーを削除したいときに検索範囲に含める\n",
    "        #Select(driver.find_element_by_name('SetDate.Year')).select_by_visible_text('1997年')\n",
    "        #Select(driver.find_element_by_name('SetDate.Month')).select_by_visible_text('1月')\n",
    "        #10年後までを選択\n",
    "        Select(driver.find_element(By.NAME, 'EndDate.Year')).select_by_visible_text(str(ThisYear + 7) + '年')\n",
    "        Select(driver.find_element(By.NAME, 'EndDate.Month')).select_by_visible_text(str(ThisMonth + 1) + '月')\n",
    "        #ダウンロード\n",
    "        driver.find_element(By.NAME, \"Export\").click()\n",
    "        self.wait_download()\n",
    "\n",
    "        #ファイルの削除\n",
    "        import shutil\n",
    "        import os\n",
    "        self.calenderpath = os.getcwd() + '/CybozeSchedule.csv'\n",
    "        shutil.move('schedule.csv', self.calenderpath)   \n",
    "\n",
    "    def input_schedule(self, calender):\n",
    "        from tqdm import tqdm\n",
    "        for event in tqdm(calender.events, desc='予定入力中'):\n",
    "            event.input_cyboze(self.browser)\n",
    "\n",
    "    def delete_schedule(self, calender):\n",
    "        from tqdm import tqdm\n",
    "        for event in tqdm(calender.events, desc='予定削除中'):\n",
    "            event.delete_cyboze(self.browser)\n"
   ]
  },
  {
   "cell_type": "code",
   "execution_count": 14,
   "metadata": {},
   "outputs": [
    {
     "name": "stdout",
     "output_type": "stream",
     "text": [
      "waiting download...\n"
     ]
    }
   ],
   "source": [
    "user_data_path = \"C:/Users/Yusaku/AppData/Local/Google/Chrome/User Data/\"\n",
    "chrome = Cyboze(user_data_path)\n",
    "chrome.set_id('前田　祐作',\"機械工学科\")\n",
    "chrome.get_calender()\n",
    "#chrome.close()"
   ]
  },
  {
   "cell_type": "markdown",
   "metadata": {},
   "source": []
  }
 ],
 "metadata": {
  "kernelspec": {
   "display_name": "Python 3.10.4 64-bit",
   "language": "python",
   "name": "python3"
  },
  "language_info": {
   "codemirror_mode": {
    "name": "ipython",
    "version": 3
   },
   "file_extension": ".py",
   "mimetype": "text/x-python",
   "name": "python",
   "nbconvert_exporter": "python",
   "pygments_lexer": "ipython3",
   "version": "3.10.4"
  },
  "orig_nbformat": 4,
  "vscode": {
   "interpreter": {
    "hash": "26de051ba29f2982a8de78e945f0abaf191376122a1563185a90213a26c5da77"
   }
  }
 },
 "nbformat": 4,
 "nbformat_minor": 2
}
