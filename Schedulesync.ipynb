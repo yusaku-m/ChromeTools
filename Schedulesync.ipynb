{
 "cells": [
  {
   "cell_type": "code",
   "execution_count": 4,
   "metadata": {},
   "outputs": [
    {
     "name": "stdout",
     "output_type": "stream",
     "text": [
      "waiting download...\n"
     ]
    }
   ],
   "source": [
    "from Chrome.Cyboze import Cyboze\n",
    "user_data_path = \"C:/Users/Yusaku/AppData/Local/Google/Chrome/User Data/\"\n",
    "chrome = Cyboze(user_data_path)\n",
    "chrome.set_id('前田　祐作',\"機械工学科\")\n",
    "chrome.get_calender()\n",
    "chrome.close()"
   ]
  },
  {
   "cell_type": "code",
   "execution_count": 7,
   "metadata": {},
   "outputs": [],
   "source": [
    "from Calender import Calender\n",
    "ccal = Calender.CybozeCalender('ccal','./CybozeSchedule.csv')"
   ]
  },
  {
   "cell_type": "code",
   "execution_count": 1,
   "metadata": {},
   "outputs": [
    {
     "name": "stdout",
     "output_type": "stream",
     "text": [
      "waiting download...\n"
     ]
    },
    {
     "ename": "AttributeError",
     "evalue": "'list' object has no attribute 'at'",
     "output_type": "error",
     "traceback": [
      "\u001b[1;31m---------------------------------------------------------------------------\u001b[0m",
      "\u001b[1;31mAttributeError\u001b[0m                            Traceback (most recent call last)",
      "\u001b[1;32mc:\\Users\\Yusaku\\Documents\\GitHub\\ChromeTools\\Schedulesync.ipynb Cell 3\u001b[0m in \u001b[0;36m<cell line: 4>\u001b[1;34m()\u001b[0m\n\u001b[0;32m      <a href='vscode-notebook-cell:/c%3A/Users/Yusaku/Documents/GitHub/ChromeTools/Schedulesync.ipynb#W5sZmlsZQ%3D%3D?line=1'>2</a>\u001b[0m user_data_path \u001b[39m=\u001b[39m \u001b[39m\"\u001b[39m\u001b[39mC:/Users/Yusaku/AppData/Local/Google/Chrome/User Data/\u001b[39m\u001b[39m\"\u001b[39m\n\u001b[0;32m      <a href='vscode-notebook-cell:/c%3A/Users/Yusaku/Documents/GitHub/ChromeTools/Schedulesync.ipynb#W5sZmlsZQ%3D%3D?line=2'>3</a>\u001b[0m chrome \u001b[39m=\u001b[39m GoogleCalender(user_data_path)\n\u001b[1;32m----> <a href='vscode-notebook-cell:/c%3A/Users/Yusaku/Documents/GitHub/ChromeTools/Schedulesync.ipynb#W5sZmlsZQ%3D%3D?line=3'>4</a>\u001b[0m chrome\u001b[39m.\u001b[39;49mget_calender()\n\u001b[0;32m      <a href='vscode-notebook-cell:/c%3A/Users/Yusaku/Documents/GitHub/ChromeTools/Schedulesync.ipynb#W5sZmlsZQ%3D%3D?line=4'>5</a>\u001b[0m chrome\u001b[39m.\u001b[39mclose()\n",
      "File \u001b[1;32mc:\\Users\\Yusaku\\Documents\\GitHub\\ChromeTools\\Chrome\\GoogleCalender.py:9\u001b[0m, in \u001b[0;36mGoogleCalender.get_calender\u001b[1;34m(self)\u001b[0m\n\u001b[0;32m      7\u001b[0m \u001b[39mself\u001b[39m\u001b[39m.\u001b[39mwait_download()\n\u001b[0;32m      8\u001b[0m \u001b[39mself\u001b[39m\u001b[39m.\u001b[39mcalenderpass \u001b[39m=\u001b[39m \u001b[39m'\u001b[39m\u001b[39mgcal\u001b[39m\u001b[39m'\u001b[39m\n\u001b[1;32m----> 9\u001b[0m \u001b[39mid\u001b[39m \u001b[39m=\u001b[39m \u001b[39mself\u001b[39;49m\u001b[39m.\u001b[39;49mstatus\u001b[39m.\u001b[39;49mat[\u001b[39m'\u001b[39m\u001b[39mgoogleID\u001b[39m\u001b[39m'\u001b[39m, \u001b[39m'\u001b[39m\u001b[39mvalue\u001b[39m\u001b[39m'\u001b[39m]\n\u001b[0;32m     10\u001b[0m \u001b[39mimport\u001b[39;00m \u001b[39mshutil\u001b[39;00m\n\u001b[0;32m     11\u001b[0m shutil\u001b[39m.\u001b[39munpack_archive(\u001b[39mid\u001b[39m \u001b[39m+\u001b[39m \u001b[39m'\u001b[39m\u001b[39m@gmail.com.ical.zip\u001b[39m\u001b[39m'\u001b[39m, \u001b[39mself\u001b[39m\u001b[39m.\u001b[39mcalenderpass)\n",
      "\u001b[1;31mAttributeError\u001b[0m: 'list' object has no attribute 'at'"
     ]
    }
   ],
   "source": [
    "from Chrome.GoogleCalender import GoogleCalender\n",
    "user_data_path = \"C:/Users/Yusaku/AppData/Local/Google/Chrome/User Data/\"\n",
    "chrome = GoogleCalender(user_data_path)\n",
    "chrome.set_id('jagaimo13')\n",
    "chrome.get_calender()\n",
    "chrome.close()"
   ]
  },
  {
   "cell_type": "code",
   "execution_count": null,
   "metadata": {},
   "outputs": [],
   "source": [
    "from Calender import Calender\n",
    "gcal = Calender.GoogleCalender('gcal','./CybozeSchedule.csv')"
   ]
  },
  {
   "cell_type": "code",
   "execution_count": 3,
   "metadata": {},
   "outputs": [
    {
     "ename": "NameError",
     "evalue": "name 'chrome' is not defined",
     "output_type": "error",
     "traceback": [
      "\u001b[1;31m---------------------------------------------------------------------------\u001b[0m",
      "\u001b[1;31mNameError\u001b[0m                                 Traceback (most recent call last)",
      "\u001b[1;32mc:\\Users\\Yusaku\\Documents\\GitHub\\ChromeTools\\Schedulesync.ipynb Cell 2\u001b[0m in \u001b[0;36m<cell line: 1>\u001b[1;34m()\u001b[0m\n\u001b[1;32m----> <a href='vscode-notebook-cell:/c%3A/Users/Yusaku/Documents/GitHub/ChromeTools/Schedulesync.ipynb#W1sZmlsZQ%3D%3D?line=0'>1</a>\u001b[0m chrome\u001b[39m.\u001b[39mclose()\n",
      "\u001b[1;31mNameError\u001b[0m: name 'chrome' is not defined"
     ]
    }
   ],
   "source": [
    "chrome.close()"
   ]
  },
  {
   "cell_type": "code",
   "execution_count": null,
   "metadata": {},
   "outputs": [],
   "source": []
  }
 ],
 "metadata": {
  "kernelspec": {
   "display_name": "Python 3.10.4 64-bit",
   "language": "python",
   "name": "python3"
  },
  "language_info": {
   "codemirror_mode": {
    "name": "ipython",
    "version": 3
   },
   "file_extension": ".py",
   "mimetype": "text/x-python",
   "name": "python",
   "nbconvert_exporter": "python",
   "pygments_lexer": "ipython3",
   "version": "3.10.4"
  },
  "orig_nbformat": 4,
  "vscode": {
   "interpreter": {
    "hash": "26de051ba29f2982a8de78e945f0abaf191376122a1563185a90213a26c5da77"
   }
  }
 },
 "nbformat": 4,
 "nbformat_minor": 2
}
